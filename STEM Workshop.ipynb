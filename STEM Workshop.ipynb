{
 "cells": [
  {
   "cell_type": "markdown",
   "metadata": {
    "heading_collapsed": true
   },
   "source": [
    "## Повторение основ Python:"
   ]
  },
  {
   "cell_type": "markdown",
   "metadata": {
    "ExecuteTime": {
     "end_time": "2020-11-07T22:37:23.996538Z",
     "start_time": "2020-11-07T22:37:23.913442Z"
    },
    "heading_collapsed": true,
    "hidden": true
   },
   "source": [
    "#### Числа"
   ]
  },
  {
   "attachments": {},
   "cell_type": "markdown",
   "metadata": {
    "hidden": true
   },
   "source": [
    "Одна из первых вещей, о которых вы узнали, - это базовые числовые типы переменных в Притоне. В Python встроено несколько базовых типов числовых переменных, и все они представляют собой числа:\n",
    "* **Int** (сокращенно от integer) - целые числа, \n",
    "* **Float** - десятичные числа с плавающей запятой, \n",
    "* **Комплексные** - содержат действительные и мнимые части."
   ]
  },
  {
   "cell_type": "code",
   "execution_count": null,
   "metadata": {
    "ExecuteTime": {
     "end_time": "2020-11-07T23:07:43.788251Z",
     "start_time": "2020-11-07T23:07:43.768244Z"
    },
    "hidden": true
   },
   "outputs": [],
   "source": [
    "8 ## Int"
   ]
  },
  {
   "cell_type": "code",
   "execution_count": null,
   "metadata": {
    "ExecuteTime": {
     "end_time": "2020-11-07T23:07:45.344475Z",
     "start_time": "2020-11-07T23:07:45.332475Z"
    },
    "hidden": true
   },
   "outputs": [],
   "source": [
    "8.5 ## Float"
   ]
  },
  {
   "cell_type": "code",
   "execution_count": null,
   "metadata": {
    "ExecuteTime": {
     "end_time": "2020-11-07T23:07:46.602512Z",
     "start_time": "2020-11-07T23:07:46.581525Z"
    },
    "hidden": true
   },
   "outputs": [],
   "source": [
    "complex(3,4) ## complex"
   ]
  },
  {
   "cell_type": "markdown",
   "metadata": {
    "heading_collapsed": true,
    "hidden": true
   },
   "source": [
    "##### Операции с числами"
   ]
  },
  {
   "cell_type": "code",
   "execution_count": null,
   "metadata": {
    "ExecuteTime": {
     "end_time": "2020-11-07T23:13:30.884539Z",
     "start_time": "2020-11-07T23:13:30.872272Z"
    },
    "hidden": true
   },
   "outputs": [],
   "source": [
    "8 + 9"
   ]
  },
  {
   "cell_type": "code",
   "execution_count": null,
   "metadata": {
    "ExecuteTime": {
     "end_time": "2020-11-07T23:13:36.530397Z",
     "start_time": "2020-11-07T23:13:36.518399Z"
    },
    "hidden": true
   },
   "outputs": [],
   "source": [
    "8-9"
   ]
  },
  {
   "cell_type": "code",
   "execution_count": null,
   "metadata": {
    "ExecuteTime": {
     "end_time": "2020-11-07T23:13:42.254634Z",
     "start_time": "2020-11-07T23:13:42.244694Z"
    },
    "hidden": true
   },
   "outputs": [],
   "source": [
    "8 * 9"
   ]
  },
  {
   "cell_type": "code",
   "execution_count": null,
   "metadata": {
    "ExecuteTime": {
     "end_time": "2020-11-07T23:13:48.366151Z",
     "start_time": "2020-11-07T23:13:48.349147Z"
    },
    "hidden": true
   },
   "outputs": [],
   "source": [
    "8 / 9"
   ]
  },
  {
   "cell_type": "code",
   "execution_count": null,
   "metadata": {
    "ExecuteTime": {
     "end_time": "2020-11-07T23:13:56.776745Z",
     "start_time": "2020-11-07T23:13:56.757736Z"
    },
    "hidden": true
   },
   "outputs": [],
   "source": [
    "8 // 9 ## деление целых чисел"
   ]
  },
  {
   "cell_type": "code",
   "execution_count": null,
   "metadata": {
    "ExecuteTime": {
     "end_time": "2020-11-07T23:14:03.308082Z",
     "start_time": "2020-11-07T23:14:03.296068Z"
    },
    "hidden": true
   },
   "outputs": [],
   "source": [
    "8 ** 9 ## возведение с степень"
   ]
  },
  {
   "cell_type": "code",
   "execution_count": null,
   "metadata": {
    "ExecuteTime": {
     "end_time": "2020-11-07T23:14:12.847967Z",
     "start_time": "2020-11-07T23:14:12.826919Z"
    },
    "hidden": true
   },
   "outputs": [],
   "source": [
    "8 // 9 # Int / Int"
   ]
  },
  {
   "cell_type": "code",
   "execution_count": null,
   "metadata": {
    "ExecuteTime": {
     "end_time": "2020-11-07T23:14:21.067203Z",
     "start_time": "2020-11-07T23:14:21.063202Z"
    },
    "hidden": true
   },
   "outputs": [],
   "source": [
    "8.0 // 9.0 # Float / Float"
   ]
  },
  {
   "cell_type": "code",
   "execution_count": null,
   "metadata": {
    "ExecuteTime": {
     "end_time": "2020-11-07T23:14:29.618089Z",
     "start_time": "2020-11-07T23:14:29.595021Z"
    },
    "hidden": true
   },
   "outputs": [],
   "source": [
    "8 / 9.0 # Int / Float"
   ]
  },
  {
   "cell_type": "code",
   "execution_count": null,
   "metadata": {
    "ExecuteTime": {
     "end_time": "2020-11-07T23:14:48.562972Z",
     "start_time": "2020-11-07T23:14:48.543026Z"
    },
    "hidden": true
   },
   "outputs": [],
   "source": [
    "8 / 9. # Int / Float"
   ]
  },
  {
   "cell_type": "code",
   "execution_count": null,
   "metadata": {
    "ExecuteTime": {
     "end_time": "2020-11-07T23:15:10.462041Z",
     "start_time": "2020-11-07T23:15:10.451097Z"
    },
    "hidden": true
   },
   "outputs": [],
   "source": [
    "int(8 / 9.) # Int(Int / Float)"
   ]
  },
  {
   "cell_type": "code",
   "execution_count": null,
   "metadata": {
    "ExecuteTime": {
     "end_time": "2020-11-07T23:15:16.063627Z",
     "start_time": "2020-11-07T23:15:16.054630Z"
    },
    "hidden": true
   },
   "outputs": [],
   "source": [
    "8 // 9 # Int // Int"
   ]
  },
  {
   "cell_type": "code",
   "execution_count": null,
   "metadata": {
    "ExecuteTime": {
     "end_time": "2020-11-07T23:15:22.327581Z",
     "start_time": "2020-11-07T23:15:22.306625Z"
    },
    "hidden": true
   },
   "outputs": [],
   "source": [
    "81 // 8"
   ]
  },
  {
   "cell_type": "code",
   "execution_count": null,
   "metadata": {
    "ExecuteTime": {
     "end_time": "2020-11-07T23:15:28.057919Z",
     "start_time": "2020-11-07T23:15:28.038919Z"
    },
    "hidden": true
   },
   "outputs": [],
   "source": [
    "81 % 8"
   ]
  },
  {
   "cell_type": "markdown",
   "metadata": {
    "hidden": true
   },
   "source": [
    "Как вы думаете, какими будут результаты следующих вычислений?"
   ]
  },
  {
   "cell_type": "code",
   "execution_count": null,
   "metadata": {
    "hidden": true
   },
   "outputs": [],
   "source": [
    "8.0 - 7\n",
    "8 * 0.25\n",
    "5 ** 2\n",
    "(4 + 3) / 6\n",
    "(20 / 3) % 2"
   ]
  },
  {
   "cell_type": "markdown",
   "metadata": {
    "heading_collapsed": true,
    "hidden": true
   },
   "source": [
    "#### Переменные"
   ]
  },
  {
   "cell_type": "code",
   "execution_count": null,
   "metadata": {
    "ExecuteTime": {
     "end_time": "2020-11-07T23:20:22.329245Z",
     "start_time": "2020-11-07T23:20:22.309189Z"
    },
    "hidden": true
   },
   "outputs": [],
   "source": [
    "x = 8\n",
    "y = 4"
   ]
  },
  {
   "cell_type": "code",
   "execution_count": null,
   "metadata": {
    "ExecuteTime": {
     "end_time": "2020-11-07T23:20:30.285588Z",
     "start_time": "2020-11-07T23:20:30.262544Z"
    },
    "hidden": true
   },
   "outputs": [],
   "source": [
    "x"
   ]
  },
  {
   "cell_type": "code",
   "execution_count": null,
   "metadata": {
    "ExecuteTime": {
     "end_time": "2020-11-07T23:20:32.249759Z",
     "start_time": "2020-11-07T23:20:32.227717Z"
    },
    "hidden": true
   },
   "outputs": [],
   "source": [
    "y"
   ]
  },
  {
   "cell_type": "code",
   "execution_count": null,
   "metadata": {
    "ExecuteTime": {
     "end_time": "2020-11-07T23:20:56.122841Z",
     "start_time": "2020-11-07T23:20:56.108891Z"
    },
    "hidden": true
   },
   "outputs": [],
   "source": [
    "x - 3"
   ]
  },
  {
   "cell_type": "code",
   "execution_count": null,
   "metadata": {
    "ExecuteTime": {
     "end_time": "2020-11-07T23:20:56.920747Z",
     "start_time": "2020-11-07T23:20:56.899744Z"
    },
    "hidden": true
   },
   "outputs": [],
   "source": [
    "x + y"
   ]
  },
  {
   "cell_type": "code",
   "execution_count": null,
   "metadata": {
    "ExecuteTime": {
     "end_time": "2020-11-07T23:24:15.834263Z",
     "start_time": "2020-11-07T23:24:15.814264Z"
    },
    "hidden": true
   },
   "outputs": [],
   "source": [
    "x = x + 7\n",
    "x"
   ]
  },
  {
   "cell_type": "markdown",
   "metadata": {
    "hidden": true
   },
   "source": [
    "Каковы значения x и y после каждой строки?"
   ]
  },
  {
   "cell_type": "code",
   "execution_count": null,
   "metadata": {
    "hidden": true
   },
   "outputs": [],
   "source": [
    "x = 5\n",
    "y = 8\n",
    "x += y\n",
    "y = x - 3\n",
    "x -= y - 5"
   ]
  },
  {
   "cell_type": "markdown",
   "metadata": {
    "heading_collapsed": true,
    "hidden": true
   },
   "source": [
    "#### Условный оператор if"
   ]
  },
  {
   "cell_type": "code",
   "execution_count": null,
   "metadata": {
    "ExecuteTime": {
     "end_time": "2020-11-08T06:22:56.644792Z",
     "start_time": "2020-11-08T06:22:56.633797Z"
    },
    "hidden": true
   },
   "outputs": [],
   "source": [
    "1 == 1"
   ]
  },
  {
   "cell_type": "code",
   "execution_count": null,
   "metadata": {
    "ExecuteTime": {
     "end_time": "2020-11-08T06:23:00.514565Z",
     "start_time": "2020-11-08T06:23:00.500575Z"
    },
    "hidden": true
   },
   "outputs": [],
   "source": [
    "1 == 2"
   ]
  },
  {
   "cell_type": "code",
   "execution_count": null,
   "metadata": {
    "ExecuteTime": {
     "end_time": "2020-11-08T06:23:06.518981Z",
     "start_time": "2020-11-08T06:23:06.503936Z"
    },
    "hidden": true
   },
   "outputs": [],
   "source": [
    "1 < 2"
   ]
  },
  {
   "cell_type": "code",
   "execution_count": null,
   "metadata": {
    "ExecuteTime": {
     "end_time": "2020-11-08T06:23:10.724344Z",
     "start_time": "2020-11-08T06:23:10.713345Z"
    },
    "hidden": true
   },
   "outputs": [],
   "source": [
    "1 > 3"
   ]
  },
  {
   "cell_type": "code",
   "execution_count": null,
   "metadata": {
    "ExecuteTime": {
     "end_time": "2020-11-08T06:23:26.376408Z",
     "start_time": "2020-11-08T06:23:26.357411Z"
    },
    "hidden": true
   },
   "outputs": [],
   "source": [
    "1 != 3"
   ]
  },
  {
   "cell_type": "code",
   "execution_count": null,
   "metadata": {
    "hidden": true
   },
   "outputs": [],
   "source": [
    "if condition:\n",
    "    statement"
   ]
  },
  {
   "cell_type": "code",
   "execution_count": null,
   "metadata": {
    "ExecuteTime": {
     "end_time": "2020-11-08T06:24:24.896380Z",
     "start_time": "2020-11-08T06:24:24.886384Z"
    },
    "hidden": true
   },
   "outputs": [],
   "source": [
    "variable1 = 9"
   ]
  },
  {
   "cell_type": "code",
   "execution_count": null,
   "metadata": {
    "ExecuteTime": {
     "end_time": "2020-11-08T06:24:57.194258Z",
     "start_time": "2020-11-08T06:24:57.179206Z"
    },
    "hidden": true
   },
   "outputs": [],
   "source": [
    "if variable1 > 3:\n",
    "    variable1 += 10\n",
    "print(variable1)"
   ]
  },
  {
   "cell_type": "code",
   "execution_count": null,
   "metadata": {
    "ExecuteTime": {
     "end_time": "2020-11-08T06:25:51.241416Z",
     "start_time": "2020-11-08T06:25:51.220421Z"
    },
    "hidden": true
   },
   "outputs": [],
   "source": [
    "variable2 = -8"
   ]
  },
  {
   "cell_type": "code",
   "execution_count": null,
   "metadata": {
    "ExecuteTime": {
     "end_time": "2020-11-08T06:26:56.986719Z",
     "start_time": "2020-11-08T06:26:56.973720Z"
    },
    "hidden": true
   },
   "outputs": [],
   "source": [
    "if variable2 > 0:\n",
    "    print(\"Positive\")\n",
    "elif variable2 == 0:\n",
    "    print(\"Zero\")\n",
    "else:\n",
    "    print(\"Negative\")"
   ]
  },
  {
   "cell_type": "code",
   "execution_count": null,
   "metadata": {
    "ExecuteTime": {
     "end_time": "2020-11-08T06:28:07.940793Z",
     "start_time": "2020-11-08T06:28:07.920808Z"
    },
    "hidden": true
   },
   "outputs": [],
   "source": [
    "if variable1 > 0:\n",
    "    if variable1 < 20:\n",
    "        print(variable1)"
   ]
  },
  {
   "cell_type": "code",
   "execution_count": null,
   "metadata": {
    "ExecuteTime": {
     "end_time": "2020-11-08T06:29:02.344185Z",
     "start_time": "2020-11-08T06:29:02.334191Z"
    },
    "hidden": true
   },
   "outputs": [],
   "source": [
    "if variable2 < 0 or variable1 > 20:\n",
    "    print(\"Condition met!\")"
   ]
  },
  {
   "cell_type": "code",
   "execution_count": null,
   "metadata": {
    "ExecuteTime": {
     "end_time": "2020-11-08T06:29:40.926375Z",
     "start_time": "2020-11-08T06:29:40.918377Z"
    },
    "hidden": true
   },
   "outputs": [],
   "source": [
    "if not (variable1 == 0 or variable2 >= 2):\n",
    "    print(\"Condition not met!\")"
   ]
  },
  {
   "cell_type": "code",
   "execution_count": null,
   "metadata": {
    "hidden": true
   },
   "outputs": [],
   "source": []
  },
  {
   "cell_type": "markdown",
   "metadata": {
    "heading_collapsed": true,
    "hidden": true
   },
   "source": [
    "#### Циклы"
   ]
  },
  {
   "cell_type": "code",
   "execution_count": null,
   "metadata": {
    "ExecuteTime": {
     "end_time": "2020-11-08T00:03:20.826184Z",
     "start_time": "2020-11-08T00:03:20.812163Z"
    },
    "hidden": true
   },
   "outputs": [],
   "source": [
    "x = 3\n",
    "y = 10\n",
    "while x < y:\n",
    "    print(x, y)\n",
    "    x += 1"
   ]
  },
  {
   "cell_type": "code",
   "execution_count": null,
   "metadata": {
    "ExecuteTime": {
     "end_time": "2020-11-08T00:04:21.807765Z",
     "start_time": "2020-11-08T00:04:21.798189Z"
    },
    "hidden": true
   },
   "outputs": [],
   "source": [
    "for i in range(10):\n",
    "    print((i+1)*10)"
   ]
  },
  {
   "cell_type": "code",
   "execution_count": null,
   "metadata": {
    "hidden": true
   },
   "outputs": [],
   "source": []
  },
  {
   "cell_type": "code",
   "execution_count": null,
   "metadata": {
    "hidden": true
   },
   "outputs": [],
   "source": []
  },
  {
   "cell_type": "markdown",
   "metadata": {
    "heading_collapsed": true,
    "hidden": true
   },
   "source": [
    "#### Строки"
   ]
  },
  {
   "cell_type": "code",
   "execution_count": null,
   "metadata": {
    "ExecuteTime": {
     "end_time": "2020-11-07T23:41:04.922150Z",
     "start_time": "2020-11-07T23:41:04.916154Z"
    },
    "hidden": true
   },
   "outputs": [],
   "source": [
    "\"This is a string\""
   ]
  },
  {
   "cell_type": "code",
   "execution_count": null,
   "metadata": {
    "ExecuteTime": {
     "end_time": "2020-11-07T23:41:20.157751Z",
     "start_time": "2020-11-07T23:41:20.149747Z"
    },
    "hidden": true
   },
   "outputs": [],
   "source": [
    "'And this is a string, but with single quotes'"
   ]
  },
  {
   "cell_type": "code",
   "execution_count": null,
   "metadata": {
    "ExecuteTime": {
     "end_time": "2020-11-07T23:41:38.466155Z",
     "start_time": "2020-11-07T23:41:38.455119Z"
    },
    "hidden": true
   },
   "outputs": [],
   "source": [
    "'This won't work'"
   ]
  },
  {
   "cell_type": "code",
   "execution_count": null,
   "metadata": {
    "ExecuteTime": {
     "end_time": "2020-11-07T23:41:46.723647Z",
     "start_time": "2020-11-07T23:41:46.707586Z"
    },
    "hidden": true
   },
   "outputs": [],
   "source": [
    "\"The last line didn't work, but this one does.\""
   ]
  },
  {
   "cell_type": "code",
   "execution_count": null,
   "metadata": {
    "ExecuteTime": {
     "end_time": "2020-11-07T23:34:26.343473Z",
     "start_time": "2020-11-07T23:34:26.322482Z"
    },
    "hidden": true
   },
   "outputs": [],
   "source": [
    "my_str_var = \"This is my string\""
   ]
  },
  {
   "cell_type": "code",
   "execution_count": null,
   "metadata": {
    "ExecuteTime": {
     "end_time": "2020-11-07T23:34:35.267442Z",
     "start_time": "2020-11-07T23:34:35.250456Z"
    },
    "hidden": true
   },
   "outputs": [],
   "source": [
    "my_str_var"
   ]
  },
  {
   "cell_type": "code",
   "execution_count": null,
   "metadata": {
    "hidden": true
   },
   "outputs": [],
   "source": []
  },
  {
   "cell_type": "markdown",
   "metadata": {
    "hidden": true
   },
   "source": [
    "##### Операции со строками"
   ]
  },
  {
   "cell_type": "code",
   "execution_count": null,
   "metadata": {
    "ExecuteTime": {
     "end_time": "2020-11-07T23:36:02.591893Z",
     "start_time": "2020-11-07T23:36:02.570919Z"
    },
    "hidden": true
   },
   "outputs": [],
   "source": [
    "\"This is my string\" + \"and this is my string too.\""
   ]
  },
  {
   "cell_type": "code",
   "execution_count": null,
   "metadata": {
    "ExecuteTime": {
     "end_time": "2020-11-07T23:36:26.402358Z",
     "start_time": "2020-11-07T23:36:26.387372Z"
    },
    "hidden": true
   },
   "outputs": [],
   "source": [
    "\"This is my string repeated\" * 3"
   ]
  },
  {
   "cell_type": "code",
   "execution_count": null,
   "metadata": {
    "ExecuteTime": {
     "end_time": "2020-11-07T23:37:09.080245Z",
     "start_time": "2020-11-07T23:37:09.057231Z"
    },
    "hidden": true
   },
   "outputs": [],
   "source": [
    "\"This is my string.\" + \" \" + \"And this is my string too.\""
   ]
  },
  {
   "cell_type": "code",
   "execution_count": null,
   "metadata": {
    "ExecuteTime": {
     "end_time": "2020-11-07T23:42:24.408757Z",
     "start_time": "2020-11-07T23:42:24.386766Z"
    },
    "hidden": true
   },
   "outputs": [],
   "source": [
    "\"This string has a space at the end \".strip()"
   ]
  },
  {
   "cell_type": "code",
   "execution_count": null,
   "metadata": {
    "ExecuteTime": {
     "end_time": "2020-11-07T23:42:44.174117Z",
     "start_time": "2020-11-07T23:42:44.164118Z"
    },
    "hidden": true
   },
   "outputs": [],
   "source": [
    "\"This string has a space in the beginning\".strip()"
   ]
  },
  {
   "cell_type": "code",
   "execution_count": null,
   "metadata": {
    "ExecuteTime": {
     "end_time": "2020-11-07T23:43:37.831585Z",
     "start_time": "2020-11-07T23:43:37.821579Z"
    },
    "hidden": true
   },
   "outputs": [],
   "source": [
    "my_str_var = \"ThIs Is An ExAmPlE sTrInG.\""
   ]
  },
  {
   "cell_type": "code",
   "execution_count": null,
   "metadata": {
    "ExecuteTime": {
     "end_time": "2020-11-07T23:43:47.853969Z",
     "start_time": "2020-11-07T23:43:47.842970Z"
    },
    "hidden": true
   },
   "outputs": [],
   "source": [
    "my_str_var.capitalize()"
   ]
  },
  {
   "cell_type": "code",
   "execution_count": null,
   "metadata": {
    "ExecuteTime": {
     "end_time": "2020-11-07T23:43:55.956525Z",
     "start_time": "2020-11-07T23:43:55.940539Z"
    },
    "hidden": true
   },
   "outputs": [],
   "source": [
    "my_str_var.upper()"
   ]
  },
  {
   "cell_type": "code",
   "execution_count": null,
   "metadata": {
    "ExecuteTime": {
     "end_time": "2020-11-07T23:44:05.620889Z",
     "start_time": "2020-11-07T23:44:05.609891Z"
    },
    "hidden": true
   },
   "outputs": [],
   "source": [
    "my_str_var.lower()"
   ]
  },
  {
   "cell_type": "code",
   "execution_count": null,
   "metadata": {
    "ExecuteTime": {
     "end_time": "2020-11-07T23:45:09.885269Z",
     "start_time": "2020-11-07T23:45:09.862738Z"
    },
    "hidden": true
   },
   "outputs": [],
   "source": [
    "my_str_var.replace(\"ThIs\", \"tHaT\")"
   ]
  },
  {
   "cell_type": "code",
   "execution_count": null,
   "metadata": {
    "ExecuteTime": {
     "end_time": "2020-11-07T23:45:29.389958Z",
     "start_time": "2020-11-07T23:45:29.379006Z"
    },
    "hidden": true
   },
   "outputs": [],
   "source": [
    "my_str_var.split()"
   ]
  },
  {
   "cell_type": "code",
   "execution_count": null,
   "metadata": {
    "hidden": true
   },
   "outputs": [],
   "source": [
    "my_str_var. ## нажмите кнопку tab"
   ]
  },
  {
   "cell_type": "markdown",
   "metadata": {
    "hidden": true
   },
   "source": [
    "Это работает для всех типов переменных о которых знает Python!"
   ]
  },
  {
   "cell_type": "code",
   "execution_count": null,
   "metadata": {
    "ExecuteTime": {
     "end_time": "2020-11-08T00:09:45.522670Z",
     "start_time": "2020-11-08T00:09:45.507669Z"
    },
    "hidden": true
   },
   "outputs": [],
   "source": [
    "my_name = \"Асаль\""
   ]
  },
  {
   "cell_type": "code",
   "execution_count": null,
   "metadata": {
    "ExecuteTime": {
     "end_time": "2020-11-08T00:10:50.595494Z",
     "start_time": "2020-11-08T00:10:50.574535Z"
    },
    "hidden": true
   },
   "outputs": [],
   "source": [
    "print(\"Привет, %s!\" % my_name)"
   ]
  },
  {
   "cell_type": "code",
   "execution_count": null,
   "metadata": {
    "ExecuteTime": {
     "end_time": "2020-11-08T00:10:12.325169Z",
     "start_time": "2020-11-08T00:10:12.313112Z"
    },
    "hidden": true
   },
   "outputs": [],
   "source": [
    "print(\"Привет, {}!\".format(my_name))"
   ]
  },
  {
   "cell_type": "markdown",
   "metadata": {
    "heading_collapsed": true,
    "hidden": true
   },
   "source": [
    "#### Индексы и срезы"
   ]
  },
  {
   "cell_type": "code",
   "execution_count": null,
   "metadata": {
    "ExecuteTime": {
     "end_time": "2020-11-07T23:53:13.309455Z",
     "start_time": "2020-11-07T23:53:13.292991Z"
    },
    "hidden": true
   },
   "outputs": [],
   "source": [
    "my_test_string = 'This is a test string.'"
   ]
  },
  {
   "cell_type": "code",
   "execution_count": null,
   "metadata": {
    "ExecuteTime": {
     "end_time": "2020-11-07T23:53:32.500789Z",
     "start_time": "2020-11-07T23:53:32.476715Z"
    },
    "hidden": true
   },
   "outputs": [],
   "source": [
    "my_test_string[1:3]"
   ]
  },
  {
   "cell_type": "code",
   "execution_count": null,
   "metadata": {
    "ExecuteTime": {
     "end_time": "2020-11-07T23:53:42.570176Z",
     "start_time": "2020-11-07T23:53:42.550200Z"
    },
    "hidden": true
   },
   "outputs": [],
   "source": [
    "my_test_string[:5]"
   ]
  },
  {
   "cell_type": "code",
   "execution_count": null,
   "metadata": {
    "ExecuteTime": {
     "end_time": "2020-11-07T23:53:49.969278Z",
     "start_time": "2020-11-07T23:53:49.959287Z"
    },
    "hidden": true
   },
   "outputs": [],
   "source": [
    "my_test_string[-1]"
   ]
  },
  {
   "cell_type": "code",
   "execution_count": null,
   "metadata": {
    "ExecuteTime": {
     "end_time": "2020-11-07T23:54:09.815632Z",
     "start_time": "2020-11-07T23:54:09.798633Z"
    },
    "hidden": true
   },
   "outputs": [],
   "source": [
    "my_test_string[-6:-1]"
   ]
  },
  {
   "cell_type": "code",
   "execution_count": null,
   "metadata": {
    "ExecuteTime": {
     "end_time": "2020-11-07T23:54:42.122606Z",
     "start_time": "2020-11-07T23:54:42.102600Z"
    },
    "hidden": true
   },
   "outputs": [],
   "source": [
    "my_test_string[:-1]"
   ]
  },
  {
   "cell_type": "code",
   "execution_count": null,
   "metadata": {
    "ExecuteTime": {
     "end_time": "2020-11-08T00:06:25.455669Z",
     "start_time": "2020-11-08T00:06:25.440627Z"
    },
    "hidden": true
   },
   "outputs": [],
   "source": [
    "my_new_test_string = \"Hello, World!\""
   ]
  },
  {
   "cell_type": "code",
   "execution_count": null,
   "metadata": {
    "ExecuteTime": {
     "end_time": "2020-11-08T00:06:32.334568Z",
     "start_time": "2020-11-08T00:06:32.319572Z"
    },
    "hidden": true
   },
   "outputs": [],
   "source": [
    "i = 0"
   ]
  },
  {
   "cell_type": "code",
   "execution_count": null,
   "metadata": {
    "ExecuteTime": {
     "end_time": "2020-11-08T00:07:10.461828Z",
     "start_time": "2020-11-08T00:07:10.452294Z"
    },
    "hidden": true
   },
   "outputs": [],
   "source": [
    "while i < len(my_new_test_string):\n",
    "    print(my_new_test_string[i])\n",
    "    i += 1"
   ]
  },
  {
   "cell_type": "code",
   "execution_count": null,
   "metadata": {
    "ExecuteTime": {
     "end_time": "2020-11-08T00:07:44.124818Z",
     "start_time": "2020-11-08T00:07:44.103811Z"
    },
    "hidden": true
   },
   "outputs": [],
   "source": [
    "for i in range(len(my_new_test_string)):\n",
    "    print(my_new_test_string[i])"
   ]
  },
  {
   "cell_type": "code",
   "execution_count": null,
   "metadata": {
    "ExecuteTime": {
     "end_time": "2020-11-08T00:08:40.910116Z",
     "start_time": "2020-11-08T00:08:40.889124Z"
    },
    "hidden": true
   },
   "outputs": [],
   "source": [
    "for letter in my_new_test_string:\n",
    "    print(letter)"
   ]
  },
  {
   "cell_type": "code",
   "execution_count": null,
   "metadata": {
    "ExecuteTime": {
     "end_time": "2020-11-08T00:17:39.456743Z",
     "start_time": "2020-11-08T00:17:39.436750Z"
    },
    "hidden": true
   },
   "outputs": [],
   "source": [
    "my_other_list = [1, 2, 3, 4, 5, 6, 7, 8, 9, 10]"
   ]
  },
  {
   "cell_type": "code",
   "execution_count": null,
   "metadata": {
    "ExecuteTime": {
     "end_time": "2020-11-08T00:17:50.432312Z",
     "start_time": "2020-11-08T00:17:50.411337Z"
    },
    "hidden": true
   },
   "outputs": [],
   "source": [
    "my_other_list[::2]"
   ]
  },
  {
   "cell_type": "code",
   "execution_count": null,
   "metadata": {
    "ExecuteTime": {
     "end_time": "2020-11-08T00:18:03.127450Z",
     "start_time": "2020-11-08T00:18:03.107861Z"
    },
    "hidden": true
   },
   "outputs": [],
   "source": [
    "my_other_list[2::3]"
   ]
  },
  {
   "cell_type": "code",
   "execution_count": null,
   "metadata": {
    "ExecuteTime": {
     "end_time": "2020-11-08T00:18:24.437080Z",
     "start_time": "2020-11-08T00:18:24.417085Z"
    },
    "hidden": true
   },
   "outputs": [],
   "source": [
    "my_other_list[2:7:3]"
   ]
  },
  {
   "cell_type": "code",
   "execution_count": null,
   "metadata": {
    "ExecuteTime": {
     "end_time": "2020-11-08T00:18:52.301516Z",
     "start_time": "2020-11-08T00:18:52.291521Z"
    },
    "hidden": true
   },
   "outputs": [],
   "source": [
    "for num in my_other_list:\n",
    "    print(num)"
   ]
  },
  {
   "cell_type": "code",
   "execution_count": null,
   "metadata": {
    "ExecuteTime": {
     "end_time": "2020-11-08T00:19:09.204675Z",
     "start_time": "2020-11-08T00:19:09.194679Z"
    },
    "hidden": true
   },
   "outputs": [],
   "source": [
    "for num in my_other_list:\n",
    "    print(num * 5)"
   ]
  },
  {
   "cell_type": "code",
   "execution_count": null,
   "metadata": {
    "ExecuteTime": {
     "end_time": "2020-11-08T00:19:45.099811Z",
     "start_time": "2020-11-08T00:19:45.090858Z"
    },
    "hidden": true
   },
   "outputs": [],
   "source": [
    "for i, num in enumerate(my_other_list):\n",
    "    print(i + num)"
   ]
  },
  {
   "cell_type": "markdown",
   "metadata": {
    "heading_collapsed": true,
    "hidden": true
   },
   "source": [
    "#### Списки"
   ]
  },
  {
   "cell_type": "code",
   "execution_count": null,
   "metadata": {
    "ExecuteTime": {
     "end_time": "2020-11-08T00:12:49.874216Z",
     "start_time": "2020-11-08T00:12:49.863164Z"
    },
    "hidden": true
   },
   "outputs": [],
   "source": [
    "my_list = [1, \"two\", 3.0]"
   ]
  },
  {
   "cell_type": "code",
   "execution_count": null,
   "metadata": {
    "ExecuteTime": {
     "end_time": "2020-11-08T00:12:54.608297Z",
     "start_time": "2020-11-08T00:12:54.596297Z"
    },
    "hidden": true
   },
   "outputs": [],
   "source": [
    "my_list"
   ]
  },
  {
   "cell_type": "code",
   "execution_count": null,
   "metadata": {
    "ExecuteTime": {
     "end_time": "2020-11-08T00:13:18.999560Z",
     "start_time": "2020-11-08T00:13:18.979884Z"
    },
    "hidden": true
   },
   "outputs": [],
   "source": [
    "another_list = list(\"Hello, World!\")"
   ]
  },
  {
   "cell_type": "code",
   "execution_count": null,
   "metadata": {
    "ExecuteTime": {
     "end_time": "2020-11-08T00:13:23.110764Z",
     "start_time": "2020-11-08T00:13:23.093758Z"
    },
    "hidden": true
   },
   "outputs": [],
   "source": [
    "another_list"
   ]
  },
  {
   "cell_type": "code",
   "execution_count": null,
   "metadata": {
    "ExecuteTime": {
     "end_time": "2020-11-08T00:14:27.188380Z",
     "start_time": "2020-11-08T00:14:27.179370Z"
    },
    "hidden": true
   },
   "outputs": [],
   "source": [
    "list_of_lists = [[\"this\", \"is\", \"one\", \"list\"], [1,2,3], [1,2,\"mixed\"]]"
   ]
  },
  {
   "cell_type": "code",
   "execution_count": null,
   "metadata": {
    "ExecuteTime": {
     "end_time": "2020-11-08T00:14:30.708341Z",
     "start_time": "2020-11-08T00:14:30.683345Z"
    },
    "hidden": true
   },
   "outputs": [],
   "source": [
    "list_of_lists"
   ]
  },
  {
   "cell_type": "markdown",
   "metadata": {
    "hidden": true
   },
   "source": [
    "##### Операции"
   ]
  },
  {
   "cell_type": "code",
   "execution_count": null,
   "metadata": {
    "ExecuteTime": {
     "end_time": "2020-11-08T00:15:12.984474Z",
     "start_time": "2020-11-08T00:15:12.965465Z"
    },
    "hidden": true
   },
   "outputs": [],
   "source": [
    "my_list"
   ]
  },
  {
   "cell_type": "code",
   "execution_count": null,
   "metadata": {
    "ExecuteTime": {
     "end_time": "2020-11-08T00:15:25.955315Z",
     "start_time": "2020-11-08T00:15:25.942290Z"
    },
    "hidden": true
   },
   "outputs": [],
   "source": [
    "my_list.append(4)"
   ]
  },
  {
   "cell_type": "code",
   "execution_count": null,
   "metadata": {
    "ExecuteTime": {
     "end_time": "2020-11-08T00:15:33.508269Z",
     "start_time": "2020-11-08T00:15:33.498666Z"
    },
    "hidden": true
   },
   "outputs": [],
   "source": [
    "my_list"
   ]
  },
  {
   "cell_type": "code",
   "execution_count": null,
   "metadata": {
    "ExecuteTime": {
     "end_time": "2020-11-08T00:15:50.354874Z",
     "start_time": "2020-11-08T00:15:50.344883Z"
    },
    "hidden": true
   },
   "outputs": [],
   "source": [
    "my_list.pop()"
   ]
  },
  {
   "cell_type": "code",
   "execution_count": null,
   "metadata": {
    "ExecuteTime": {
     "end_time": "2020-11-08T00:15:54.245241Z",
     "start_time": "2020-11-08T00:15:54.234246Z"
    },
    "hidden": true
   },
   "outputs": [],
   "source": [
    "my_list"
   ]
  },
  {
   "cell_type": "code",
   "execution_count": null,
   "metadata": {
    "ExecuteTime": {
     "end_time": "2020-11-08T00:16:05.147718Z",
     "start_time": "2020-11-08T00:16:05.139711Z"
    },
    "hidden": true
   },
   "outputs": [],
   "source": [
    "my_list.remove(\"two\")"
   ]
  },
  {
   "cell_type": "code",
   "execution_count": null,
   "metadata": {
    "ExecuteTime": {
     "end_time": "2020-11-08T00:16:08.231935Z",
     "start_time": "2020-11-08T00:16:08.222928Z"
    },
    "hidden": true
   },
   "outputs": [],
   "source": [
    "my_list"
   ]
  },
  {
   "cell_type": "code",
   "execution_count": null,
   "metadata": {
    "ExecuteTime": {
     "end_time": "2020-11-08T00:16:22.752254Z",
     "start_time": "2020-11-08T00:16:22.741258Z"
    },
    "hidden": true
   },
   "outputs": [],
   "source": [
    "my_list.reverse()"
   ]
  },
  {
   "cell_type": "code",
   "execution_count": null,
   "metadata": {
    "ExecuteTime": {
     "end_time": "2020-11-08T00:16:25.582135Z",
     "start_time": "2020-11-08T00:16:25.573137Z"
    },
    "hidden": true
   },
   "outputs": [],
   "source": [
    "my_list"
   ]
  },
  {
   "cell_type": "code",
   "execution_count": null,
   "metadata": {
    "ExecuteTime": {
     "end_time": "2020-11-08T00:16:32.174849Z",
     "start_time": "2020-11-08T00:16:32.154853Z"
    },
    "hidden": true
   },
   "outputs": [],
   "source": [
    "my_list.sort()"
   ]
  },
  {
   "cell_type": "code",
   "execution_count": null,
   "metadata": {
    "ExecuteTime": {
     "end_time": "2020-11-08T00:16:37.107222Z",
     "start_time": "2020-11-08T00:16:37.098167Z"
    },
    "hidden": true
   },
   "outputs": [],
   "source": [
    "my_list"
   ]
  },
  {
   "cell_type": "code",
   "execution_count": null,
   "metadata": {
    "ExecuteTime": {
     "end_time": "2020-11-08T00:17:05.006392Z",
     "start_time": "2020-11-08T00:17:04.994397Z"
    },
    "hidden": true
   },
   "outputs": [],
   "source": [
    "my_list[1]"
   ]
  },
  {
   "cell_type": "markdown",
   "metadata": {
    "hidden": true
   },
   "source": [
    "##### Кортежи"
   ]
  },
  {
   "cell_type": "code",
   "execution_count": null,
   "metadata": {
    "ExecuteTime": {
     "end_time": "2020-11-08T05:22:53.353696Z",
     "start_time": "2020-11-08T05:22:53.338702Z"
    },
    "hidden": true
   },
   "outputs": [],
   "source": [
    "my_list[0] = 8"
   ]
  },
  {
   "cell_type": "code",
   "execution_count": null,
   "metadata": {
    "ExecuteTime": {
     "end_time": "2020-11-08T05:23:10.522384Z",
     "start_time": "2020-11-08T05:23:10.496389Z"
    },
    "hidden": true
   },
   "outputs": [],
   "source": [
    "my_test_string[1] = \"g\""
   ]
  },
  {
   "cell_type": "code",
   "execution_count": null,
   "metadata": {
    "ExecuteTime": {
     "end_time": "2020-11-08T05:25:52.177988Z",
     "start_time": "2020-11-08T05:25:52.167999Z"
    },
    "hidden": true
   },
   "outputs": [],
   "source": [
    "my_tuple = tuple([1, 2])\n",
    "another_tuple = (1, 2)\n",
    "yet_another_tuple = 1, 2"
   ]
  },
  {
   "cell_type": "code",
   "execution_count": null,
   "metadata": {
    "ExecuteTime": {
     "end_time": "2020-11-08T05:27:57.616716Z",
     "start_time": "2020-11-08T05:27:57.597723Z"
    },
    "hidden": true
   },
   "outputs": [],
   "source": [
    "t = (1, [1, 2])\n",
    "t[1].append(3)\n",
    "t"
   ]
  },
  {
   "cell_type": "code",
   "execution_count": null,
   "metadata": {
    "ExecuteTime": {
     "end_time": "2020-11-08T05:32:03.581691Z",
     "start_time": "2020-11-08T05:32:03.570646Z"
    },
    "hidden": true
   },
   "outputs": [],
   "source": [
    "capitals = [('Russia', 'Moscow'), ('France', 'Paris'), ('USA', 'Washington, DC'), ('Kazakhstan', 'Nur-Sultan'), ('Uzbekistan', 'Tashkent')]"
   ]
  },
  {
   "cell_type": "code",
   "execution_count": null,
   "metadata": {
    "ExecuteTime": {
     "end_time": "2020-11-08T05:36:17.601045Z",
     "start_time": "2020-11-08T05:36:17.593062Z"
    },
    "hidden": true
   },
   "outputs": [],
   "source": [
    "search_country = 'Russia'\n",
    "capital = 'Country not found'\n",
    "for cap in capitals:\n",
    "    if cap[0] == search_country:\n",
    "        capital = cap[1]\n",
    "        break\n",
    "print(capital)"
   ]
  },
  {
   "cell_type": "markdown",
   "metadata": {
    "ExecuteTime": {
     "end_time": "2020-11-07T22:38:39.899056Z",
     "start_time": "2020-11-07T22:38:39.877055Z"
    },
    "heading_collapsed": true,
    "hidden": true
   },
   "source": [
    "#### Словари"
   ]
  },
  {
   "cell_type": "code",
   "execution_count": null,
   "metadata": {
    "ExecuteTime": {
     "end_time": "2020-11-08T05:38:26.305435Z",
     "start_time": "2020-11-08T05:38:26.295428Z"
    },
    "hidden": true
   },
   "outputs": [],
   "source": [
    "capitals_dict = {'Russia':'Moscow', 'France':'Paris', 'USA':'Washington, DC', 'Kazakhstan':'Nur-Sultan', 'Uzbekistan':'Tashkent'}"
   ]
  },
  {
   "cell_type": "code",
   "execution_count": null,
   "metadata": {
    "ExecuteTime": {
     "end_time": "2020-11-08T05:38:30.786473Z",
     "start_time": "2020-11-08T05:38:30.767462Z"
    },
    "hidden": true
   },
   "outputs": [],
   "source": [
    "capitals_dict"
   ]
  },
  {
   "cell_type": "code",
   "execution_count": null,
   "metadata": {
    "ExecuteTime": {
     "end_time": "2020-11-08T05:38:58.119627Z",
     "start_time": "2020-11-08T05:38:58.100629Z"
    },
    "hidden": true
   },
   "outputs": [],
   "source": [
    "capitals_dict['Russia']"
   ]
  },
  {
   "cell_type": "code",
   "execution_count": null,
   "metadata": {
    "ExecuteTime": {
     "end_time": "2020-11-08T05:39:32.737473Z",
     "start_time": "2020-11-08T05:39:32.716479Z"
    },
    "hidden": true
   },
   "outputs": [],
   "source": [
    "capitals_dict['Tashkent']"
   ]
  },
  {
   "cell_type": "code",
   "execution_count": null,
   "metadata": {
    "ExecuteTime": {
     "end_time": "2020-11-08T05:42:53.849434Z",
     "start_time": "2020-11-08T05:42:53.832439Z"
    },
    "hidden": true
   },
   "outputs": [],
   "source": [
    "my_dict = {'item1':5, 'item2':2}"
   ]
  },
  {
   "cell_type": "code",
   "execution_count": null,
   "metadata": {
    "ExecuteTime": {
     "end_time": "2020-11-08T05:43:01.892855Z",
     "start_time": "2020-11-08T05:43:01.882915Z"
    },
    "hidden": true
   },
   "outputs": [],
   "source": [
    "my_dict[\"item1\"]"
   ]
  },
  {
   "cell_type": "code",
   "execution_count": null,
   "metadata": {
    "ExecuteTime": {
     "end_time": "2020-11-08T05:43:24.571414Z",
     "start_time": "2020-11-08T05:43:24.564416Z"
    },
    "hidden": true
   },
   "outputs": [],
   "source": [
    "my_dict['item2'] = 10"
   ]
  },
  {
   "cell_type": "code",
   "execution_count": null,
   "metadata": {
    "ExecuteTime": {
     "end_time": "2020-11-08T05:43:39.010731Z",
     "start_time": "2020-11-08T05:43:38.994731Z"
    },
    "hidden": true
   },
   "outputs": [],
   "source": [
    "my_dict['item2']"
   ]
  },
  {
   "cell_type": "code",
   "execution_count": null,
   "metadata": {
    "ExecuteTime": {
     "end_time": "2020-11-08T05:43:50.757804Z",
     "start_time": "2020-11-08T05:43:50.739801Z"
    },
    "hidden": true
   },
   "outputs": [],
   "source": [
    "my_dict['item3'] = 23"
   ]
  },
  {
   "cell_type": "code",
   "execution_count": null,
   "metadata": {
    "ExecuteTime": {
     "end_time": "2020-11-08T05:43:55.555071Z",
     "start_time": "2020-11-08T05:43:55.548073Z"
    },
    "hidden": true
   },
   "outputs": [],
   "source": [
    "my_dict"
   ]
  },
  {
   "cell_type": "code",
   "execution_count": null,
   "metadata": {
    "ExecuteTime": {
     "end_time": "2020-11-08T05:46:25.996513Z",
     "start_time": "2020-11-08T05:46:25.971532Z"
    },
    "hidden": true
   },
   "outputs": [],
   "source": [
    "# key\n",
    "my_bad_key = ['bad key']\n",
    "my_dict = {my_bad_key:\"This won't work\"}\n",
    "my_bad_key.append('another key')\n",
    "my_dict[my_bad_key]"
   ]
  },
  {
   "cell_type": "code",
   "execution_count": null,
   "metadata": {
    "ExecuteTime": {
     "end_time": "2020-11-08T05:47:42.344428Z",
     "start_time": "2020-11-08T05:47:42.329389Z"
    },
    "hidden": true
   },
   "outputs": [],
   "source": [
    "for country in capitals_dict:\n",
    "    print(country)"
   ]
  },
  {
   "cell_type": "code",
   "execution_count": null,
   "metadata": {
    "ExecuteTime": {
     "end_time": "2020-11-08T05:48:14.452908Z",
     "start_time": "2020-11-08T05:48:14.441920Z"
    },
    "hidden": true
   },
   "outputs": [],
   "source": [
    "for cap in capitals_dict.values():\n",
    "    print(cap)"
   ]
  },
  {
   "cell_type": "code",
   "execution_count": null,
   "metadata": {
    "hidden": true
   },
   "outputs": [],
   "source": []
  },
  {
   "cell_type": "code",
   "execution_count": null,
   "metadata": {
    "hidden": true
   },
   "outputs": [],
   "source": []
  },
  {
   "attachments": {},
   "cell_type": "markdown",
   "metadata": {
    "heading_collapsed": true,
    "hidden": true
   },
   "source": [
    "#### Множества"
   ]
  },
  {
   "cell_type": "code",
   "execution_count": null,
   "metadata": {
    "ExecuteTime": {
     "end_time": "2020-11-08T06:14:05.382641Z",
     "start_time": "2020-11-08T06:14:05.378596Z"
    },
    "hidden": true
   },
   "outputs": [],
   "source": [
    "my_set = {1,2,3}\n",
    "my_second_set = set([1,2,3])"
   ]
  },
  {
   "cell_type": "code",
   "execution_count": null,
   "metadata": {
    "ExecuteTime": {
     "end_time": "2020-11-08T06:14:26.539922Z",
     "start_time": "2020-11-08T06:14:26.517927Z"
    },
    "hidden": true
   },
   "outputs": [],
   "source": [
    "my_third_set = set(\"Hello, World!\")"
   ]
  },
  {
   "cell_type": "code",
   "execution_count": null,
   "metadata": {
    "ExecuteTime": {
     "end_time": "2020-11-08T06:14:35.125209Z",
     "start_time": "2020-11-08T06:14:35.106160Z"
    },
    "hidden": true
   },
   "outputs": [],
   "source": [
    "my_third_set"
   ]
  },
  {
   "cell_type": "code",
   "execution_count": null,
   "metadata": {
    "ExecuteTime": {
     "end_time": "2020-11-08T06:16:20.209307Z",
     "start_time": "2020-11-08T06:16:20.202315Z"
    },
    "hidden": true
   },
   "outputs": [],
   "source": [
    "my_set, my_other_set = {1, 2, 3}, {5, 6, 7}"
   ]
  },
  {
   "cell_type": "code",
   "execution_count": null,
   "metadata": {
    "ExecuteTime": {
     "end_time": "2020-11-08T06:16:27.957066Z",
     "start_time": "2020-11-08T06:16:27.944055Z"
    },
    "hidden": true
   },
   "outputs": [],
   "source": [
    "my_set.union(my_other_set)"
   ]
  },
  {
   "cell_type": "code",
   "execution_count": null,
   "metadata": {
    "ExecuteTime": {
     "end_time": "2020-11-08T06:16:36.383692Z",
     "start_time": "2020-11-08T06:16:36.364704Z"
    },
    "hidden": true
   },
   "outputs": [],
   "source": [
    "my_set.add(4) # {1, 2, 3, 4}"
   ]
  },
  {
   "cell_type": "code",
   "execution_count": null,
   "metadata": {
    "ExecuteTime": {
     "end_time": "2020-11-08T06:16:51.554839Z",
     "start_time": "2020-11-08T06:16:51.540833Z"
    },
    "hidden": true
   },
   "outputs": [],
   "source": [
    "my_set.update(my_other_set) # {1, 2, 3, 4, 5, 6, 7}"
   ]
  },
  {
   "cell_type": "code",
   "execution_count": null,
   "metadata": {
    "ExecuteTime": {
     "end_time": "2020-11-08T06:16:58.984996Z",
     "start_time": "2020-11-08T06:16:58.969994Z"
    },
    "hidden": true
   },
   "outputs": [],
   "source": [
    "my_set.remove(5) # {1, 2, 3, 4, 6, 7}"
   ]
  },
  {
   "cell_type": "code",
   "execution_count": null,
   "metadata": {
    "ExecuteTime": {
     "end_time": "2020-11-08T06:17:10.868900Z",
     "start_time": "2020-11-08T06:17:10.845855Z"
    },
    "hidden": true
   },
   "outputs": [],
   "source": [
    "my_set.intersection(my_other_set)"
   ]
  },
  {
   "cell_type": "code",
   "execution_count": null,
   "metadata": {
    "ExecuteTime": {
     "end_time": "2020-11-08T06:17:13.110772Z",
     "start_time": "2020-11-08T06:17:13.098831Z"
    },
    "hidden": true
   },
   "outputs": [],
   "source": [
    "my_set.difference(my_other_set)"
   ]
  },
  {
   "cell_type": "markdown",
   "metadata": {
    "heading_collapsed": true,
    "hidden": true
   },
   "source": [
    "#### Функции"
   ]
  },
  {
   "cell_type": "code",
   "execution_count": null,
   "metadata": {
    "ExecuteTime": {
     "end_time": "2020-11-08T06:34:41.436989Z",
     "start_time": "2020-11-08T06:34:41.422944Z"
    },
    "hidden": true
   },
   "outputs": [],
   "source": [
    "def my_function():\n",
    "    for e in range(10):\n",
    "        print(e**2)"
   ]
  },
  {
   "cell_type": "code",
   "execution_count": null,
   "metadata": {
    "ExecuteTime": {
     "end_time": "2020-11-08T06:34:48.817511Z",
     "start_time": "2020-11-08T06:34:48.808505Z"
    },
    "hidden": true
   },
   "outputs": [],
   "source": [
    "my_function()"
   ]
  },
  {
   "cell_type": "code",
   "execution_count": null,
   "metadata": {
    "ExecuteTime": {
     "end_time": "2020-11-08T06:38:01.212819Z",
     "start_time": "2020-11-08T06:38:01.205526Z"
    },
    "hidden": true
   },
   "outputs": [],
   "source": [
    "def function_with_argument(x):\n",
    "    for e in range(x):\n",
    "        print(e**x)"
   ]
  },
  {
   "cell_type": "code",
   "execution_count": null,
   "metadata": {
    "ExecuteTime": {
     "end_time": "2020-11-08T06:38:01.654633Z",
     "start_time": "2020-11-08T06:38:01.642365Z"
    },
    "hidden": true
   },
   "outputs": [],
   "source": [
    "function_with_argument(5)"
   ]
  },
  {
   "cell_type": "code",
   "execution_count": null,
   "metadata": {
    "hidden": true
   },
   "outputs": [],
   "source": []
  },
  {
   "cell_type": "code",
   "execution_count": null,
   "metadata": {
    "hidden": true
   },
   "outputs": [],
   "source": []
  },
  {
   "cell_type": "markdown",
   "metadata": {
    "heading_collapsed": true
   },
   "source": [
    "## Pandas:"
   ]
  },
  {
   "cell_type": "markdown",
   "metadata": {
    "hidden": true
   },
   "source": [
    "[Pandas documentation](http://pandas.pydata.org/pandas-docs/stable/io.html)"
   ]
  },
  {
   "cell_type": "code",
   "execution_count": null,
   "metadata": {
    "ExecuteTime": {
     "end_time": "2020-11-08T06:46:59.441822Z",
     "start_time": "2020-11-08T06:46:58.311806Z"
    },
    "hidden": true
   },
   "outputs": [],
   "source": [
    "import pandas as pd"
   ]
  },
  {
   "cell_type": "code",
   "execution_count": null,
   "metadata": {
    "ExecuteTime": {
     "end_time": "2020-11-08T06:53:56.608802Z",
     "start_time": "2020-11-08T06:53:56.593801Z"
    },
    "hidden": true
   },
   "outputs": [],
   "source": [
    "data_list = [{\"first_column\":1, \"second_column\":3, \"third_column\": 4.}, {\"first_column\":3, \"second_column\":5, \"third_column\":6., \"fourth_column\":12}]"
   ]
  },
  {
   "cell_type": "code",
   "execution_count": null,
   "metadata": {
    "ExecuteTime": {
     "end_time": "2020-11-08T06:55:14.091787Z",
     "start_time": "2020-11-08T06:55:14.067784Z"
    },
    "hidden": true
   },
   "outputs": [],
   "source": [
    "df = pd.DataFrame(data_list)\n",
    "df"
   ]
  },
  {
   "cell_type": "code",
   "execution_count": null,
   "metadata": {
    "ExecuteTime": {
     "end_time": "2020-11-08T06:55:19.149527Z",
     "start_time": "2020-11-08T06:55:19.127582Z"
    },
    "hidden": true
   },
   "outputs": [],
   "source": [
    "another_data_list = [{'a': 0}, {'b':50}, {'c': 42}]\n",
    "df = pd.DataFrame(another_data_list)\n",
    "df"
   ]
  },
  {
   "cell_type": "code",
   "execution_count": null,
   "metadata": {
    "ExecuteTime": {
     "end_time": "2020-11-08T07:37:24.905902Z",
     "start_time": "2020-11-08T07:37:24.884962Z"
    },
    "hidden": true
   },
   "outputs": [],
   "source": [
    "data_values = [[1, 2, 3], [4, 5, 6]]\n",
    "data_columns = ['a', 'b', 'c']\n",
    "df = pd.DataFrame(data=data_values, columns=data_columns)\n",
    "df"
   ]
  },
  {
   "cell_type": "code",
   "execution_count": null,
   "metadata": {
    "hidden": true
   },
   "outputs": [],
   "source": [
    "df = pd.read_csv('my_data.csv') ## если данные в файле"
   ]
  },
  {
   "cell_type": "markdown",
   "metadata": {
    "hidden": true
   },
   "source": [
    "### Анализируем блог!"
   ]
  },
  {
   "cell_type": "code",
   "execution_count": null,
   "metadata": {
    "ExecuteTime": {
     "end_time": "2020-11-08T10:05:32.080019Z",
     "start_time": "2020-11-08T10:05:32.067071Z"
    },
    "hidden": true
   },
   "outputs": [],
   "source": [
    "import random ## модуль для генерации случайных чисел"
   ]
  },
  {
   "cell_type": "code",
   "execution_count": null,
   "metadata": {
    "ExecuteTime": {
     "end_time": "2020-11-08T10:05:32.285018Z",
     "start_time": "2020-11-08T10:05:32.268019Z"
    },
    "hidden": true
   },
   "outputs": [],
   "source": [
    "data_columns = [\"month\", \"category\", \"num_visitors\", \"num_comments\"]"
   ]
  },
  {
   "cell_type": "code",
   "execution_count": null,
   "metadata": {
    "ExecuteTime": {
     "end_time": "2020-11-08T10:05:32.459067Z",
     "start_time": "2020-11-08T10:05:32.439069Z"
    },
    "hidden": true
   },
   "outputs": [],
   "source": [
    "categories = [\"Data Science Skills\", \"Python Programming\", \"Technical Interview Prep\", \"Soft Skills\", \"Project Management\", \"Data Science Books\"]"
   ]
  },
  {
   "cell_type": "code",
   "execution_count": null,
   "metadata": {
    "ExecuteTime": {
     "end_time": "2020-11-08T10:05:32.617080Z",
     "start_time": "2020-11-08T10:05:32.595017Z"
    },
    "hidden": true
   },
   "outputs": [],
   "source": [
    "num_articles = random.randint(50,100) ## generate a random number of articles published\n",
    "num_articles"
   ]
  },
  {
   "cell_type": "code",
   "execution_count": null,
   "metadata": {
    "ExecuteTime": {
     "end_time": "2020-11-08T10:07:02.861393Z",
     "start_time": "2020-11-08T10:07:02.844465Z"
    },
    "hidden": true
   },
   "outputs": [],
   "source": [
    "months = []\n",
    "for x in range(1,11):\n",
    "    months.append(x)\n",
    "months"
   ]
  },
  {
   "cell_type": "code",
   "execution_count": null,
   "metadata": {
    "ExecuteTime": {
     "end_time": "2020-11-08T10:09:19.513080Z",
     "start_time": "2020-11-08T10:09:19.491088Z"
    },
    "hidden": true,
    "scrolled": true
   },
   "outputs": [],
   "source": [
    "month_data = []\n",
    "while len(month_data) < num_articles:\n",
    "    rand_idx = random.randint(0,9)\n",
    "    month_data.append(months[rand_idx])\n",
    "month_data.sort()\n",
    "month_data"
   ]
  },
  {
   "cell_type": "code",
   "execution_count": null,
   "metadata": {
    "ExecuteTime": {
     "end_time": "2020-11-08T10:17:17.184525Z",
     "start_time": "2020-11-08T10:17:17.166529Z"
    },
    "hidden": true
   },
   "outputs": [],
   "source": [
    "category_data = []\n",
    "num_visitors_data = []\n",
    "num_comments_data = []\n",
    "\n",
    "for i in range(num_articles):\n",
    "    \n",
    "    rand_cat_index = random.randint(0, len(categories)-1)\n",
    "    category_data.append(categories[rand_cat_index])\n",
    "    \n",
    "    rand_visitors = random.randint(i, i*25)\n",
    "    num_visitors_data.append(rand_visitors)\n",
    "    \n",
    "    rand_comments = random.randint(0, rand_visitors*random.randint(1,5))\n",
    "    num_comments_data.append(rand_comments)\n"
   ]
  },
  {
   "cell_type": "code",
   "execution_count": null,
   "metadata": {
    "ExecuteTime": {
     "end_time": "2020-11-08T10:17:17.390597Z",
     "start_time": "2020-11-08T10:17:17.371528Z"
    },
    "hidden": true,
    "scrolled": true
   },
   "outputs": [],
   "source": [
    "category_data"
   ]
  },
  {
   "cell_type": "code",
   "execution_count": null,
   "metadata": {
    "ExecuteTime": {
     "end_time": "2020-11-08T10:17:18.024247Z",
     "start_time": "2020-11-08T10:17:18.012193Z"
    },
    "hidden": true,
    "scrolled": true
   },
   "outputs": [],
   "source": [
    "num_visitors_data"
   ]
  },
  {
   "cell_type": "code",
   "execution_count": null,
   "metadata": {
    "ExecuteTime": {
     "end_time": "2020-11-08T10:17:18.816311Z",
     "start_time": "2020-11-08T10:17:18.794325Z"
    },
    "hidden": true,
    "scrolled": true
   },
   "outputs": [],
   "source": [
    "num_comments_data"
   ]
  },
  {
   "cell_type": "code",
   "execution_count": null,
   "metadata": {
    "ExecuteTime": {
     "end_time": "2020-11-08T10:17:19.807899Z",
     "start_time": "2020-11-08T10:17:19.786899Z"
    },
    "hidden": true
   },
   "outputs": [],
   "source": [
    "data_values = [month_data, category_data, num_visitors_data, num_comments_data]"
   ]
  },
  {
   "cell_type": "code",
   "execution_count": null,
   "metadata": {
    "ExecuteTime": {
     "end_time": "2020-11-08T10:17:33.355112Z",
     "start_time": "2020-11-08T10:17:33.347165Z"
    },
    "hidden": true
   },
   "outputs": [],
   "source": [
    "data_dict = dict(zip(data_columns, data_values))"
   ]
  },
  {
   "cell_type": "code",
   "execution_count": null,
   "metadata": {
    "ExecuteTime": {
     "end_time": "2020-11-08T10:17:33.873105Z",
     "start_time": "2020-11-08T10:17:33.852107Z"
    },
    "hidden": true
   },
   "outputs": [],
   "source": [
    "data_dict"
   ]
  },
  {
   "cell_type": "code",
   "execution_count": null,
   "metadata": {
    "ExecuteTime": {
     "end_time": "2020-11-08T10:17:34.476165Z",
     "start_time": "2020-11-08T10:17:34.460101Z"
    },
    "hidden": true
   },
   "outputs": [],
   "source": [
    "df = pd.DataFrame(data_dict)"
   ]
  },
  {
   "cell_type": "markdown",
   "metadata": {
    "hidden": true
   },
   "source": [
    "Посмотрим, что у нас за данные"
   ]
  },
  {
   "cell_type": "code",
   "execution_count": null,
   "metadata": {
    "ExecuteTime": {
     "end_time": "2020-11-08T10:17:35.470189Z",
     "start_time": "2020-11-08T10:17:35.458258Z"
    },
    "hidden": true
   },
   "outputs": [],
   "source": [
    "df.shape # Дает количество строк и количество коллонок"
   ]
  },
  {
   "cell_type": "code",
   "execution_count": null,
   "metadata": {
    "ExecuteTime": {
     "end_time": "2020-11-08T10:17:35.802763Z",
     "start_time": "2020-11-08T10:17:35.779744Z"
    },
    "hidden": true
   },
   "outputs": [],
   "source": [
    "df.info() ## общая информация о таблице"
   ]
  },
  {
   "cell_type": "code",
   "execution_count": null,
   "metadata": {
    "ExecuteTime": {
     "end_time": "2020-11-08T10:17:36.164772Z",
     "start_time": "2020-11-08T10:17:36.133733Z"
    },
    "hidden": true
   },
   "outputs": [],
   "source": [
    "df.head() ## первые 5 строк"
   ]
  },
  {
   "cell_type": "code",
   "execution_count": null,
   "metadata": {
    "ExecuteTime": {
     "end_time": "2020-11-08T10:17:36.577724Z",
     "start_time": "2020-11-08T10:17:36.549792Z"
    },
    "hidden": true
   },
   "outputs": [],
   "source": [
    "df.tail() ## последние 5 строк"
   ]
  },
  {
   "cell_type": "code",
   "execution_count": null,
   "metadata": {
    "ExecuteTime": {
     "end_time": "2020-11-08T10:17:37.069849Z",
     "start_time": "2020-11-08T10:17:37.028863Z"
    },
    "hidden": true
   },
   "outputs": [],
   "source": [
    "df.describe() #### статистические данные обо всей таблице"
   ]
  },
  {
   "cell_type": "markdown",
   "metadata": {
    "hidden": true
   },
   "source": [
    "df.groupby()"
   ]
  },
  {
   "cell_type": "code",
   "execution_count": null,
   "metadata": {
    "ExecuteTime": {
     "end_time": "2020-11-08T10:17:38.221026Z",
     "start_time": "2020-11-08T10:17:38.186967Z"
    },
    "hidden": true
   },
   "outputs": [],
   "source": [
    "df.groupby(\"month\").count() ## сколько статей в каждом месяце?"
   ]
  },
  {
   "cell_type": "markdown",
   "metadata": {
    "hidden": true
   },
   "source": [
    "Сколько статей в каждой категории?"
   ]
  },
  {
   "cell_type": "code",
   "execution_count": null,
   "metadata": {
    "ExecuteTime": {
     "end_time": "2020-11-08T10:17:39.277419Z",
     "start_time": "2020-11-08T10:17:39.266469Z"
    },
    "hidden": true
   },
   "outputs": [],
   "source": [
    "#### TODO"
   ]
  },
  {
   "cell_type": "code",
   "execution_count": null,
   "metadata": {
    "ExecuteTime": {
     "end_time": "2020-11-08T10:17:39.512453Z",
     "start_time": "2020-11-08T10:17:39.484411Z"
    },
    "hidden": true
   },
   "outputs": [],
   "source": [
    "df.groupby(\"month\").mean() ### среднее число посетителей и коментариев в каждом месяце"
   ]
  },
  {
   "cell_type": "code",
   "execution_count": null,
   "metadata": {
    "ExecuteTime": {
     "end_time": "2020-11-08T10:17:39.968452Z",
     "start_time": "2020-11-08T10:17:39.939412Z"
    },
    "hidden": true
   },
   "outputs": [],
   "source": [
    "df.groupby(\"month\").max() ### максимальное число посетителей и коментариев в каждом месяце."
   ]
  },
  {
   "cell_type": "markdown",
   "metadata": {
    "hidden": true
   },
   "source": [
    "Сколько в среднем посетителей и коментариев у статей в каждой из категорий? Какая категория самая популярная? В каких категориях количество комментариев > 10? В каких категориях количество посетителей > 100? В какие месяцы?"
   ]
  },
  {
   "cell_type": "code",
   "execution_count": null,
   "metadata": {
    "ExecuteTime": {
     "end_time": "2020-11-08T10:13:08.218729Z",
     "start_time": "2020-11-08T10:13:08.205732Z"
    },
    "hidden": true
   },
   "outputs": [],
   "source": [
    "#### TODO"
   ]
  },
  {
   "cell_type": "markdown",
   "metadata": {
    "hidden": true
   },
   "source": [
    "Как узнать среднее число коментариев на посетителя?"
   ]
  },
  {
   "cell_type": "markdown",
   "metadata": {
    "hidden": true
   },
   "source": [
    "avg_comment_per_visitor = num_comments / num_visitors"
   ]
  },
  {
   "cell_type": "markdown",
   "metadata": {
    "heading_collapsed": true,
    "hidden": true
   },
   "source": [
    "###### Добавляем столбик в таблицу"
   ]
  },
  {
   "cell_type": "code",
   "execution_count": null,
   "metadata": {
    "hidden": true
   },
   "outputs": [],
   "source": [
    "df[\"avg_comment_per_visitor\"] = df.num_comments / df.num_visitors"
   ]
  },
  {
   "cell_type": "code",
   "execution_count": null,
   "metadata": {
    "hidden": true
   },
   "outputs": [],
   "source": []
  },
  {
   "cell_type": "markdown",
   "metadata": {
    "hidden": true
   },
   "source": [
    "###### Фильтруем"
   ]
  },
  {
   "cell_type": "code",
   "execution_count": null,
   "metadata": {
    "ExecuteTime": {
     "end_time": "2020-11-08T10:17:44.083115Z",
     "start_time": "2020-11-08T10:17:44.059178Z"
    },
    "hidden": true
   },
   "outputs": [],
   "source": [
    "df.month"
   ]
  },
  {
   "cell_type": "code",
   "execution_count": null,
   "metadata": {
    "ExecuteTime": {
     "end_time": "2020-11-08T10:17:44.271110Z",
     "start_time": "2020-11-08T10:17:44.255111Z"
    },
    "hidden": true
   },
   "outputs": [],
   "source": [
    "df[df.month == 1]"
   ]
  },
  {
   "cell_type": "markdown",
   "metadata": {
    "hidden": true
   },
   "source": [
    "Сделайте то же самое для другого месяца или одной из категорий"
   ]
  },
  {
   "cell_type": "code",
   "execution_count": null,
   "metadata": {
    "ExecuteTime": {
     "end_time": "2020-11-08T10:17:44.951153Z",
     "start_time": "2020-11-08T10:17:44.937153Z"
    },
    "hidden": true
   },
   "outputs": [],
   "source": [
    "## TODO"
   ]
  },
  {
   "cell_type": "code",
   "execution_count": null,
   "metadata": {
    "ExecuteTime": {
     "end_time": "2020-11-08T10:17:45.284094Z",
     "start_time": "2020-11-08T10:17:45.255108Z"
    },
    "hidden": true
   },
   "outputs": [],
   "source": [
    "df[df.month == 1].groupby(\"category\").mean()"
   ]
  },
  {
   "cell_type": "markdown",
   "metadata": {
    "hidden": true
   },
   "source": [
    "##### Строим графики"
   ]
  },
  {
   "cell_type": "code",
   "execution_count": null,
   "metadata": {
    "ExecuteTime": {
     "end_time": "2020-11-08T10:17:47.102634Z",
     "start_time": "2020-11-08T10:17:47.080564Z"
    },
    "hidden": true
   },
   "outputs": [],
   "source": [
    "import matplotlib.pyplot as plt\n",
    "%matplotlib inline"
   ]
  },
  {
   "cell_type": "code",
   "execution_count": null,
   "metadata": {
    "ExecuteTime": {
     "end_time": "2020-11-08T10:22:29.352218Z",
     "start_time": "2020-11-08T10:22:29.169263Z"
    },
    "hidden": true
   },
   "outputs": [],
   "source": [
    "df.plot.hist(y=\"num_visitors\", figsize=(16,4), bins=20, xticks=range(0,3000,250))\n",
    "plt.show()"
   ]
  },
  {
   "cell_type": "code",
   "execution_count": null,
   "metadata": {
    "ExecuteTime": {
     "end_time": "2020-11-08T10:21:22.746501Z",
     "start_time": "2020-11-08T10:21:22.571509Z"
    },
    "hidden": true,
    "scrolled": true
   },
   "outputs": [],
   "source": [
    "df[df.category==\"Data Science Skills\"].plot.hist(y=\"num_visitors\", figsize=(16,4))\n",
    "plt.show()"
   ]
  },
  {
   "cell_type": "code",
   "execution_count": null,
   "metadata": {
    "ExecuteTime": {
     "end_time": "2020-11-08T10:20:06.776487Z",
     "start_time": "2020-11-08T10:20:06.625395Z"
    },
    "hidden": true
   },
   "outputs": [],
   "source": [
    "df.plot.line(x=\"month\", y=\"num_visitors\", figsize=(16,4), xticks=months)\n",
    "plt.show()"
   ]
  },
  {
   "cell_type": "code",
   "execution_count": null,
   "metadata": {
    "hidden": true
   },
   "outputs": [],
   "source": []
  },
  {
   "cell_type": "markdown",
   "metadata": {
    "heading_collapsed": true
   },
   "source": [
    "# misc"
   ]
  },
  {
   "cell_type": "code",
   "execution_count": null,
   "metadata": {
    "ExecuteTime": {
     "end_time": "2020-11-07T23:07:38.845920Z",
     "start_time": "2020-11-07T23:07:38.822920Z"
    },
    "hidden": true
   },
   "outputs": [],
   "source": [
    "from IPython.display import display, HTML\n",
    "\n",
    "display(HTML(data=\"\"\"\n",
    "<style>\n",
    "    div#notebook-container    { width: 95%; }\n",
    "    div#menubar-container     { width: 95%; }\n",
    "    div#maintoolbar-container { width: 99%; }\n",
    "</style>\n",
    "\"\"\"))"
   ]
  },
  {
   "cell_type": "code",
   "execution_count": null,
   "metadata": {
    "hidden": true
   },
   "outputs": [],
   "source": []
  }
 ],
 "metadata": {
  "kernelspec": {
   "display_name": "Python 3",
   "language": "python",
   "name": "python3"
  },
  "language_info": {
   "codemirror_mode": {
    "name": "ipython",
    "version": 3
   },
   "file_extension": ".py",
   "mimetype": "text/x-python",
   "name": "python",
   "nbconvert_exporter": "python",
   "pygments_lexer": "ipython3",
   "version": "3.7.6"
  }
 },
 "nbformat": 4,
 "nbformat_minor": 4
}
